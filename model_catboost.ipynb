{
 "cells": [
  {
   "cell_type": "markdown",
   "id": "d423e478",
   "metadata": {},
   "source": [
    "# Classifying sequences using sequence metadata\n",
    "\n",
    "Same as `model.ipynb` but using CatBoost."
   ]
  },
  {
   "cell_type": "markdown",
   "id": "afb6f932",
   "metadata": {},
   "source": [
    "## Data loading and processing"
   ]
  },
  {
   "cell_type": "code",
   "execution_count": 1,
   "id": "70ef5398",
   "metadata": {},
   "outputs": [],
   "source": [
    "import sys\n",
    "import os\n",
    "import numpy as np\n",
    "import pandas as pd\n",
    "import pydicom\n",
    "import nltk\n",
    "from glob import glob\n",
    "from io import StringIO\n",
    "from copy import deepcopy\n",
    "\n",
    "from src.msc.constants import *\n",
    "from src.msc.sanitization import *\n",
    "from src.msc.feature_extraction import *\n",
    "\n",
    "data_path = \"data/data_train.csv\"\n",
    "data = pd.read_csv(data_path)\n",
    "\n",
    "data.loc[data[\"class\"] == \"DCE\",\"class\"] = \"dce\"\n",
    "data = sanitize_data(data)\n",
    "\n",
    "study_uids = np.array(data[\"study_uid\"].tolist())\n",
    "y = np.array(data[\"class\"])\n",
    "\n",
    "data = sequence_to_other_df(\n",
    "    data,\"study_uid\",\"class\",\"dwi\",\"adc\",\"percent_phase_field_of_view\")\n",
    "data = sequence_to_other_df(\n",
    "    data,\"study_uid\",\"class\",\"dwi\",\"adc\",\"sar\")\n",
    "\n",
    "X = data.drop(cols_to_drop,axis=1)\n",
    "\n",
    "study_uids = np.array(data[\"study_uid\"].tolist())\n",
    "y = np.array(data[\"class\"])"
   ]
  },
  {
   "cell_type": "markdown",
   "id": "5eec6ff0",
   "metadata": {},
   "source": [
    "## Training"
   ]
  },
  {
   "cell_type": "markdown",
   "id": "b1f922ff",
   "metadata": {},
   "source": [
    "### CV performance"
   ]
  },
  {
   "cell_type": "code",
   "execution_count": 2,
   "id": "298b7697",
   "metadata": {},
   "outputs": [
    {
     "name": "stdout",
     "output_type": "stream",
     "text": [
      "Fold 1\n",
      "\tTransforming data\n",
      "\tTraining model\n",
      "\tEvaluating model\n",
      "              precision    recall  f1-score   support\n",
      "\n",
      "         adc       1.00      0.98      0.99      1044\n",
      "         dce       0.98      0.99      0.98       801\n",
      "         dwi       0.99      0.99      0.99      1550\n",
      "      others       0.99      0.99      0.99      2062\n",
      "          t2       0.99      0.99      0.99      1153\n",
      "\n",
      "    accuracy                           0.99      6610\n",
      "   macro avg       0.99      0.99      0.99      6610\n",
      "weighted avg       0.99      0.99      0.99      6610\n",
      "\n",
      "Fold 2\n",
      "\tTransforming data\n",
      "\tTraining model\n",
      "\tEvaluating model\n",
      "              precision    recall  f1-score   support\n",
      "\n",
      "         adc       1.00      1.00      1.00       997\n",
      "         dce       1.00      1.00      1.00       513\n",
      "         dwi       0.99      1.00      1.00      1474\n",
      "      others       0.99      1.00      0.99      1819\n",
      "          t2       1.00      0.99      0.99      1132\n",
      "\n",
      "    accuracy                           1.00      5935\n",
      "   macro avg       1.00      1.00      1.00      5935\n",
      "weighted avg       1.00      1.00      1.00      5935\n",
      "\n",
      "Fold 3\n",
      "\tTransforming data\n",
      "\tTraining model\n",
      "\tEvaluating model\n",
      "              precision    recall  f1-score   support\n",
      "\n",
      "         adc       0.99      1.00      0.99       995\n",
      "         dce       1.00      0.96      0.98       588\n",
      "         dwi       0.99      0.99      0.99      1523\n",
      "      others       0.97      0.99      0.98      2057\n",
      "          t2       0.99      0.98      0.98      1175\n",
      "\n",
      "    accuracy                           0.98      6338\n",
      "   macro avg       0.99      0.98      0.98      6338\n",
      "weighted avg       0.98      0.98      0.98      6338\n",
      "\n",
      "Fold 4\n",
      "\tTransforming data\n",
      "\tTraining model\n",
      "\tEvaluating model\n",
      "              precision    recall  f1-score   support\n",
      "\n",
      "         adc       1.00      0.99      0.99      1025\n",
      "         dce       1.00      1.00      1.00       658\n",
      "         dwi       0.99      1.00      0.99      1471\n",
      "      others       1.00      0.99      0.99      2033\n",
      "          t2       0.99      0.99      0.99      1120\n",
      "\n",
      "    accuracy                           0.99      6307\n",
      "   macro avg       0.99      0.99      0.99      6307\n",
      "weighted avg       0.99      0.99      0.99      6307\n",
      "\n",
      "Fold 5\n",
      "\tTransforming data\n",
      "\tTraining model\n",
      "\tEvaluating model\n",
      "              precision    recall  f1-score   support\n",
      "\n",
      "         adc       0.99      0.99      0.99       973\n",
      "         dce       1.00      0.98      0.99       553\n",
      "         dwi       0.99      1.00      1.00      1475\n",
      "      others       0.99      0.99      0.99      1994\n",
      "          t2       0.98      0.99      0.99      1147\n",
      "\n",
      "    accuracy                           0.99      6142\n",
      "   macro avg       0.99      0.99      0.99      6142\n",
      "weighted avg       0.99      0.99      0.99      6142\n",
      "\n"
     ]
    }
   ],
   "source": [
    "from catboost import CatBoostClassifier, FeaturesData, Pool\n",
    "from sklearn.metrics import roc_auc_score,classification_report\n",
    "from sklearn.pipeline import Pipeline\n",
    "from sklearn.model_selection import GridSearchCV, KFold\n",
    "from sklearn.feature_selection import VarianceThreshold\n",
    "from sklearn.preprocessing import StandardScaler,MinMaxScaler\n",
    "\n",
    "n_folds = 5\n",
    "\n",
    "kf = KFold(n_folds,shuffle=True,random_state=42)\n",
    "\n",
    "nan_remover = RemoveNan()\n",
    "unique_study_uids = list(set(study_uids))\n",
    "\n",
    "f = 0\n",
    "\n",
    "fold_results = []\n",
    "\n",
    "model_dict = {\n",
    "    \"catboost\":{\n",
    "        \"model\":CatBoostClassifier,\n",
    "        \"params\":{\"devices\":\"0-4\",\"verbose\":False},\n",
    "        \"cv_params\":{}\n",
    "    }\n",
    "}\n",
    "\n",
    "model_name = \"catboost\"\n",
    "\n",
    "for train_idxs,val_idxs in kf.split(unique_study_uids):\n",
    "    print(\"Fold {}\".format(f+1))\n",
    "    # data splitting\n",
    "    train_uids = [unique_study_uids[i] for i in train_idxs]\n",
    "    val_uids = [unique_study_uids[i] for i in val_idxs]\n",
    "    train_idxs_long = [i for i,x in enumerate(study_uids) \n",
    "                       if x in train_uids]\n",
    "    val_idxs_long = [i for i,x in enumerate(study_uids) \n",
    "                     if x in val_uids]\n",
    "    training_X = X.iloc[train_idxs_long]\n",
    "    training_y = y[train_idxs_long]\n",
    "    val_X = X.iloc[val_idxs_long]\n",
    "    val_y = y[val_idxs_long]\n",
    "\n",
    "    print(\"\\tTransforming data\")\n",
    "    cat_feature_cols = text_sep_cols + num_sep_cols\n",
    "    fc = [x for x in training_X.columns if x in cat_feature_cols]\n",
    "    training_data = Pool(\n",
    "        data=FeaturesData(\n",
    "            cat_feature_data=np.array(training_X[fc]),\n",
    "            num_feature_data=np.array(training_X[num_cols],dtype=np.float32)),\n",
    "        label=np.array(training_y))\n",
    "    val_data = Pool(\n",
    "        data=FeaturesData(\n",
    "            cat_feature_data=np.array(val_X[fc]),\n",
    "            num_feature_data=np.array(val_X[num_cols],dtype=np.float32)),\n",
    "        label=val_y)\n",
    "\n",
    "    print(\"\\tTraining model\")\n",
    "    md = model_dict\n",
    "\n",
    "    search_fn = GridSearchCV\n",
    "\n",
    "    model = md[model_name][\"model\"](**model_dict[model_name][\"params\"])\n",
    "\n",
    "    model.fit(training_data)\n",
    "\n",
    "    print(\"\\tEvaluating model\")\n",
    "    y_pred = model.predict(val_data)\n",
    "    fold_results.append({\n",
    "        \"auc\":roc_auc_score(val_y,model.predict_proba(val_data),\n",
    "                            multi_class=\"ovr\"),\n",
    "        \"model\":model,\n",
    "        \"y_true\":val_y,\n",
    "        \"y_pred\":y_pred,\n",
    "        })\n",
    "    \n",
    "    f += 1"
   ]
  },
  {
   "cell_type": "code",
   "execution_count": 11,
   "id": "c4d0bc29",
   "metadata": {},
   "outputs": [
    {
     "name": "stdout",
     "output_type": "stream",
     "text": [
      "[0.9996     0.99960735 0.99978613 0.99986657 0.99987036]\n"
     ]
    },
    {
     "data": {
      "image/png": "[encoded data removed]",
      "text/plain": [
       "<Figure size 432x288 with 2 Axes>"
      ]
     },
     "metadata": {
      "needs_background": "light"
     },
     "output_type": "display_data"
    }
   ],
   "source": [
    "import matplotlib.pyplot as plt\n",
    "from sklearn.metrics import classification_report, confusion_matrix\n",
    "from sklearn.metrics import ConfusionMatrixDisplay\n",
    "\n",
    "cms = []\n",
    "aucs = []\n",
    "for f in fold_results:\n",
    "    aucs.append(f[\"auc\"])\n",
    "    cm = confusion_matrix(f[\"y_true\"],f[\"y_pred\"])\n",
    "    \n",
    "    cm = cm / cm.sum(1)\n",
    "    cms.append(cm)\n",
    "\n",
    "print(np.quantile(aucs,[0,0.05,0.5,0.95,1.0]))\n",
    "ConfusionMatrixDisplay(np.array(cms).mean(0),display_labels=f[\"model\"].classes_).plot()\n",
    "plt.show()"
   ]
  },
  {
   "cell_type": "code",
   "execution_count": 12,
   "id": "8dfd6ea9",
   "metadata": {},
   "outputs": [
    {
     "data": {
      "text/html": [
       "<div>\n",
       "<style scoped>\n",
       "    .dataframe tbody tr th:only-of-type {\n",
       "        vertical-align: middle;\n",
       "    }\n",
       "\n",
       "    .dataframe tbody tr th {\n",
       "        vertical-align: top;\n",
       "    }\n",
       "\n",
       "    .dataframe thead th {\n",
       "        text-align: right;\n",
       "    }\n",
       "</style>\n",
       "<table border=\"1\" class=\"dataframe\">\n",
       "  <thead>\n",
       "    <tr style=\"text-align: right;\">\n",
       "      <th></th>\n",
       "      <th>metric</th>\n",
       "      <th>fold</th>\n",
       "      <th>sequence_id</th>\n",
       "      <th>value</th>\n",
       "    </tr>\n",
       "  </thead>\n",
       "  <tbody>\n",
       "    <tr>\n",
       "      <th>0</th>\n",
       "      <td>precision</td>\n",
       "      <td>0</td>\n",
       "      <td>ADC</td>\n",
       "      <td>0.995155</td>\n",
       "    </tr>\n",
       "    <tr>\n",
       "      <th>1</th>\n",
       "      <td>recall</td>\n",
       "      <td>0</td>\n",
       "      <td>ADC</td>\n",
       "      <td>0.983716</td>\n",
       "    </tr>\n",
       "    <tr>\n",
       "      <th>2</th>\n",
       "      <td>f1-score</td>\n",
       "      <td>0</td>\n",
       "      <td>ADC</td>\n",
       "      <td>0.989403</td>\n",
       "    </tr>\n",
       "    <tr>\n",
       "      <th>3</th>\n",
       "      <td>support</td>\n",
       "      <td>0</td>\n",
       "      <td>ADC</td>\n",
       "      <td>1044.000000</td>\n",
       "    </tr>\n",
       "    <tr>\n",
       "      <th>4</th>\n",
       "      <td>precision</td>\n",
       "      <td>0</td>\n",
       "      <td>DCE</td>\n",
       "      <td>0.976658</td>\n",
       "    </tr>\n",
       "    <tr>\n",
       "      <th>...</th>\n",
       "      <td>...</td>\n",
       "      <td>...</td>\n",
       "      <td>...</td>\n",
       "      <td>...</td>\n",
       "    </tr>\n",
       "    <tr>\n",
       "      <th>135</th>\n",
       "      <td>support</td>\n",
       "      <td>4</td>\n",
       "      <td>MACRO AVG</td>\n",
       "      <td>6142.000000</td>\n",
       "    </tr>\n",
       "    <tr>\n",
       "      <th>136</th>\n",
       "      <td>precision</td>\n",
       "      <td>4</td>\n",
       "      <td>WEIGHTED AVG</td>\n",
       "      <td>0.990899</td>\n",
       "    </tr>\n",
       "    <tr>\n",
       "      <th>137</th>\n",
       "      <td>recall</td>\n",
       "      <td>4</td>\n",
       "      <td>WEIGHTED AVG</td>\n",
       "      <td>0.990882</td>\n",
       "    </tr>\n",
       "    <tr>\n",
       "      <th>138</th>\n",
       "      <td>f1-score</td>\n",
       "      <td>4</td>\n",
       "      <td>WEIGHTED AVG</td>\n",
       "      <td>0.990884</td>\n",
       "    </tr>\n",
       "    <tr>\n",
       "      <th>139</th>\n",
       "      <td>support</td>\n",
       "      <td>4</td>\n",
       "      <td>WEIGHTED AVG</td>\n",
       "      <td>6142.000000</td>\n",
       "    </tr>\n",
       "  </tbody>\n",
       "</table>\n",
       "<p>140 rows × 4 columns</p>\n",
       "</div>"
      ],
      "text/plain": [
       "        metric  fold   sequence_id        value\n",
       "0    precision     0           ADC     0.995155\n",
       "1       recall     0           ADC     0.983716\n",
       "2     f1-score     0           ADC     0.989403\n",
       "3      support     0           ADC  1044.000000\n",
       "4    precision     0           DCE     0.976658\n",
       "..         ...   ...           ...          ...\n",
       "135    support     4     MACRO AVG  6142.000000\n",
       "136  precision     4  WEIGHTED AVG     0.990899\n",
       "137     recall     4  WEIGHTED AVG     0.990882\n",
       "138   f1-score     4  WEIGHTED AVG     0.990884\n",
       "139    support     4  WEIGHTED AVG  6142.000000\n",
       "\n",
       "[140 rows x 4 columns]"
      ]
     },
     "execution_count": 12,
     "metadata": {},
     "output_type": "execute_result"
    }
   ],
   "source": [
    "metric_dict = {\"metric\":[],\"fold\":[],\"sequence_id\":[],\"value\":[]}\n",
    "for i,f in enumerate(fold_results):\n",
    "    cr = classification_report(\n",
    "        f[\"y_true\"],f[\"y_pred\"],\n",
    "        output_dict=True)\n",
    "    for k in cr:\n",
    "        if isinstance(cr[k],dict):\n",
    "            for kk in cr[k]:\n",
    "                metric_dict[\"sequence_id\"].append(k.upper())\n",
    "                metric_dict[\"value\"].append(cr[k][kk])\n",
    "                metric_dict[\"metric\"].append(kk)\n",
    "                metric_dict[\"fold\"].append(i)\n",
    "\n",
    "metric_df = pd.DataFrame.from_dict(metric_dict)\n",
    "metric_df"
   ]
  },
  {
   "cell_type": "code",
   "execution_count": 13,
   "id": "2684bdbe",
   "metadata": {},
   "outputs": [
    {
     "data": {
      "text/plain": [
       "<seaborn.axisgrid.FacetGrid at 0x7f718a2e9ca0>"
      ]
     },
     "execution_count": 13,
     "metadata": {},
     "output_type": "execute_result"
    },
    {
     "data": {
      "image/png": "[encoded data removed]",
      "text/plain": [
       "<Figure size 1080x360 with 3 Axes>"
      ]
     },
     "metadata": {
      "needs_background": "light"
     },
     "output_type": "display_data"
    }
   ],
   "source": [
    "import seaborn as sb\n",
    "\n",
    "metric_df[\"idx\"] = np.arange(metric_df.shape[0])\n",
    "metric_df.pivot([\"metric\",\"fold\"],\"sequence_id\",\"value\").reset_index()\n",
    "\n",
    "sb.catplot(data=metric_df[metric_df[\"metric\"]!=\"support\"],y=\"sequence_id\",x=\"value\",\n",
    "           kind=\"point\",col=\"metric\",join=False,capsize=.1)"
   ]
  },
  {
   "cell_type": "markdown",
   "id": "33860775",
   "metadata": {},
   "source": [
    "### Hold-out test set"
   ]
  },
  {
   "cell_type": "code",
   "execution_count": 14,
   "id": "04ffb41f",
   "metadata": {},
   "outputs": [],
   "source": [
    "test_data_path = \"data/data_test.csv\"\n",
    "data_hold_out = pd.read_csv(test_data_path)\n",
    "data_hold_out.loc[data_hold_out[\"class\"] == \"DCE\",\"class\"] = \"dce\"\n",
    "\n",
    "data_hold_out = sanitize_data(data_hold_out)\n",
    "data_hold_out = sequence_to_other_df(\n",
    "    data_hold_out,\"study_uid\",\"class\",\"dwi\",\"adc\",\"percent_phase_field_of_view\")\n",
    "data_hold_out = sequence_to_other_df(\n",
    "    data_hold_out,\"study_uid\",\"class\",\"dwi\",\"adc\",\"sar\")\n",
    "\n",
    "X_hold_out = data_hold_out.drop(cols_to_drop,axis=1)\n",
    "y_hold_out = np.array(data_hold_out[\"class\"])"
   ]
  },
  {
   "cell_type": "code",
   "execution_count": 15,
   "id": "0fdad685",
   "metadata": {},
   "outputs": [],
   "source": [
    "all_predictions = {}\n",
    "\n",
    "for i,f in enumerate(fold_results):\n",
    "    model = f[\"model\"]\n",
    "    test_data_pred = Pool(\n",
    "        data=FeaturesData(\n",
    "            cat_feature_data=np.array(X_hold_out[fc]),\n",
    "            num_feature_data=np.array(X_hold_out[num_cols],dtype=np.float32)),\n",
    "        label=y_hold_out)\n",
    "\n",
    "    y_pred = model.predict(test_data_pred)\n",
    "\n",
    "    all_predictions[i] = {\"true\":test_data_pred.get_label(),\"pred\":y_pred}"
   ]
  },
  {
   "cell_type": "code",
   "execution_count": 16,
   "id": "28a8e327",
   "metadata": {},
   "outputs": [
    {
     "data": {
      "image/png": "[encoded data removed]",
      "text/plain": [
       "<Figure size 432x288 with 2 Axes>"
      ]
     },
     "metadata": {
      "needs_background": "light"
     },
     "output_type": "display_data"
    }
   ],
   "source": [
    "cms = []\n",
    "l = [\"ADC\",\"DCE\",\"DWI\",\"Others\",\"T2W\"]\n",
    "for i in all_predictions:\n",
    "    f = all_predictions[i]\n",
    "    cm = confusion_matrix(f[\"true\"],f[\"pred\"])\n",
    "    \n",
    "    cm = cm / cm.sum(1)\n",
    "    cms.append(cm)\n",
    "\n",
    "ConfusionMatrixDisplay(np.array(cms).mean(0),display_labels=l).plot()\n",
    "plt.show()"
   ]
  },
  {
   "cell_type": "code",
   "execution_count": 17,
   "id": "b22d9822",
   "metadata": {},
   "outputs": [],
   "source": [
    "hold_out_metric_dict = {\"metric\":[],\"fold\":[],\"sequence_id\":[],\"value\":[]}\n",
    "for i in all_predictions:\n",
    "    cr = classification_report(all_predictions[i][\"true\"],\n",
    "                               all_predictions[i][\"pred\"],\n",
    "                               output_dict=True)\n",
    "    for k in cr:\n",
    "        if isinstance(cr[k],dict):\n",
    "            for kk in cr[k]:\n",
    "                hold_out_metric_dict[\"sequence_id\"].append(k.upper())\n",
    "                hold_out_metric_dict[\"value\"].append(cr[k][kk])\n",
    "                hold_out_metric_dict[\"metric\"].append(kk)\n",
    "                hold_out_metric_dict[\"fold\"].append(i)"
   ]
  },
  {
   "cell_type": "code",
   "execution_count": 10,
   "id": "7213d1e0",
   "metadata": {},
   "outputs": [
    {
     "data": {
      "text/plain": [
       "<seaborn.axisgrid.FacetGrid at 0x7f718a24aa60>"
      ]
     },
     "execution_count": 10,
     "metadata": {},
     "output_type": "execute_result"
    },
    {
     "data": {
      "image/png": "[encoded data removed]",
      "text/plain": [
       "<Figure size 1080x360 with 3 Axes>"
      ]
     },
     "metadata": {
      "needs_background": "light"
     },
     "output_type": "display_data"
    }
   ],
   "source": [
    "hold_out_metric_df = pd.DataFrame.from_dict(hold_out_metric_dict)\n",
    "\n",
    "hold_out_metric_df[\"idx\"] = np.arange(hold_out_metric_df.shape[0])\n",
    "hold_out_metric_df.pivot([\"metric\",\"fold\"],\"sequence_id\",\"value\").reset_index()\n",
    "\n",
    "sb.catplot(data=hold_out_metric_df[hold_out_metric_df[\"metric\"]!=\"support\"],y=\"sequence_id\",x=\"value\",\n",
    "           kind=\"point\",col=\"metric\",join=False)"
   ]
  }
 ],
 "metadata": {
  "kernelspec": {
   "display_name": "Python 3 (ipykernel)",
   "language": "python",
   "name": "python3"
  },
  "language_info": {
   "codemirror_mode": {
    "name": "ipython",
    "version": 3
   },
   "file_extension": ".py",
   "mimetype": "text/x-python",
   "name": "python",
   "nbconvert_exporter": "python",
   "pygments_lexer": "ipython3",
   "version": "3.9.12"
  },
  "vscode": {
   "interpreter": {
    "hash": "57907a0bf32e194a840802e99a9c21023814e75299a7a09c1397f9b831ab2e38"
   }
  }
 },
 "nbformat": 4,
 "nbformat_minor": 5
}
